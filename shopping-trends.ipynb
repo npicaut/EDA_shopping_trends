{
 "cells": [
  {
   "cell_type": "markdown",
   "metadata": {},
   "source": [
    "# Exploratory Data analysis : Shopping trands data set"
   ]
  },
  {
   "cell_type": "markdown",
   "metadata": {},
   "source": [
    "## Libraries"
   ]
  },
  {
   "cell_type": "code",
   "execution_count": 30,
   "metadata": {},
   "outputs": [],
   "source": [
    "import pandas as pd"
   ]
  },
  {
   "cell_type": "markdown",
   "metadata": {},
   "source": [
    "## Overview of the data"
   ]
  },
  {
   "cell_type": "code",
   "execution_count": 31,
   "metadata": {},
   "outputs": [
    {
     "name": "stdout",
     "output_type": "stream",
     "text": [
      "(3900, 18)\n",
      "Index(['Customer ID', 'Age', 'Gender', 'Item Purchased', 'Category',\n",
      "       'Purchase Amount (USD)', 'Location', 'Size', 'Color', 'Season',\n",
      "       'Review Rating', 'Subscription Status', 'Shipping Type',\n",
      "       'Discount Applied', 'Promo Code Used', 'Previous Purchases',\n",
      "       'Payment Method', 'Frequency of Purchases'],\n",
      "      dtype='object')\n"
     ]
    }
   ],
   "source": [
    "df = pd.read_csv(\"shopping_trends_updated.csv\")\n",
    "print(df.shape)\n",
    "print(df.columns)"
   ]
  },
  {
   "cell_type": "code",
   "execution_count": 32,
   "metadata": {},
   "outputs": [
    {
     "name": "stdout",
     "output_type": "stream",
     "text": [
      "               Age  Review Rating  Previous Purchases  Purchase Amount (USD)\n",
      "count  3900.000000    3900.000000         3900.000000            3900.000000\n",
      "mean     44.068462       3.749949           25.351538              59.764359\n",
      "std      15.207589       0.716223           14.447125              23.685392\n",
      "min      18.000000       2.500000            1.000000              20.000000\n",
      "25%      31.000000       3.100000           13.000000              39.000000\n",
      "50%      44.000000       3.700000           25.000000              60.000000\n",
      "75%      57.000000       4.400000           38.000000              81.000000\n",
      "max      70.000000       5.000000           50.000000             100.000000\n"
     ]
    }
   ],
   "source": [
    "# Statistic description of quantitative variables\n",
    "print(df.loc[:,[\"Age\", \"Review Rating\", \"Previous Purchases\", \"Purchase Amount (USD)\"]].describe())"
   ]
  },
  {
   "cell_type": "markdown",
   "metadata": {},
   "source": [
    "\n",
    "Checking if there are any null values\n",
    "\n",
    "Checking if there are any duplicated values\n",
    "\n",
    "Describe each variable with matplotlib"
   ]
  },
  {
   "cell_type": "code",
   "execution_count": null,
   "metadata": {},
   "outputs": [],
   "source": []
  },
  {
   "cell_type": "markdown",
   "metadata": {},
   "source": [
    "## Questions:\n",
    "### 1. What is the average age of customers ?\n",
    "### 2. What is the most common item purchased ?\n",
    "### 3. What is the total purchase amount for each category ?\n",
    "### 4. How many customers have opted for the Subscription ?\n",
    "### 5. What is the total purchase amount for customers in each location ? Make a world cloud\n",
    "### 6. KDE plot for Purchase Amount by Season\n",
    "### add more questions"
   ]
  },
  {
   "cell_type": "code",
   "execution_count": null,
   "metadata": {},
   "outputs": [],
   "source": []
  }
 ],
 "metadata": {
  "kernelspec": {
   "display_name": "base",
   "language": "python",
   "name": "python3"
  },
  "language_info": {
   "codemirror_mode": {
    "name": "ipython",
    "version": 3
   },
   "file_extension": ".py",
   "mimetype": "text/x-python",
   "name": "python",
   "nbconvert_exporter": "python",
   "pygments_lexer": "ipython3",
   "version": "3.9.13"
  }
 },
 "nbformat": 4,
 "nbformat_minor": 2
}
